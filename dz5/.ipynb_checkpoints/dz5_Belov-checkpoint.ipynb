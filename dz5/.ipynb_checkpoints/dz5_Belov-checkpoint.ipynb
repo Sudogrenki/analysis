{
 "cells": [
  {
   "cell_type": "code",
   "execution_count": 1,
   "id": "1d8bb5e7",
   "metadata": {},
   "outputs": [],
   "source": [
    "import pandas as pd\n",
    "import numpy as np\n",
    "import seaborn as sns\n",
    "\n",
    "from matplotlib import pyplot as plt\n",
    "from statsmodels.tsa.stattools import grangercausalitytests"
   ]
  },
  {
   "cell_type": "code",
   "execution_count": 2,
   "id": "fb565632",
   "metadata": {},
   "outputs": [],
   "source": [
    "df_vacc = pd.read_csv('vaccinations.csv')\n",
    "df_vacc_tw = pd.read_csv('')"
   ]
  },
  {
   "cell_type": "code",
   "execution_count": 3,
   "id": "72839b7a",
   "metadata": {},
   "outputs": [
    {
     "ename": "NameError",
     "evalue": "name 'vaccinations' is not defined",
     "output_type": "error",
     "traceback": [
      "\u001b[1;31m---------------------------------------------------------------------------\u001b[0m",
      "\u001b[1;31mNameError\u001b[0m                                 Traceback (most recent call last)",
      "Cell \u001b[1;32mIn[3], line 2\u001b[0m\n\u001b[0;32m      1\u001b[0m \u001b[38;5;66;03m# Группируем данные по количеству вакцинаций в день\u001b[39;00m\n\u001b[1;32m----> 2\u001b[0m vac_count \u001b[38;5;241m=\u001b[39m vaccinations\u001b[38;5;241m.\u001b[39mgroupby([\u001b[38;5;124m'\u001b[39m\u001b[38;5;124mdate\u001b[39m\u001b[38;5;124m'\u001b[39m], as_index \u001b[38;5;241m=\u001b[39m \u001b[38;5;28;01mFalse\u001b[39;00m)\u001b[38;5;241m.\u001b[39magg({\u001b[38;5;124m'\u001b[39m\u001b[38;5;124mdaily_vaccinations\u001b[39m\u001b[38;5;124m'\u001b[39m: \u001b[38;5;124m'\u001b[39m\u001b[38;5;124msum\u001b[39m\u001b[38;5;124m'\u001b[39m})\n\u001b[0;32m      3\u001b[0m vac_count\n",
      "\u001b[1;31mNameError\u001b[0m: name 'vaccinations' is not defined"
     ]
    }
   ],
   "source": [
    "# Группируем данные по количеству вакцинаций в день\n",
    "vac_count = df_vacc.groupby(['date'], as_index = False).agg({'daily_df_vacc': 'sum'})\n",
    "vac_count"
   ]
  },
  {
   "cell_type": "code",
   "execution_count": null,
   "id": "be355cab",
   "metadata": {},
   "outputs": [],
   "source": [
    "# Группируем данные по количеству твитов в день\n",
    "tweet_count = pd.DataFrame(df_vacc_tw['date'].str.split(' ').apply(lambda x: x[0]))\n",
    "tweet_count = tweet_count.groupby('date', as_index = False).agg(df_vacc_tw = ('date', 'count'))\n",
    "tweet_count.head()"
   ]
  },
  {
   "cell_type": "code",
   "execution_count": null,
   "id": "44c684c9",
   "metadata": {},
   "outputs": [],
   "source": [
    "# Собираем один датасет, включающий в себя информацию и по твитам, и по вакцинациям\n",
    "data_merged = pd.merge(left = vac_count, right = tweet_count, on = 'date', how = 'inner')\n",
    "data_merged.head()"
   ]
  },
  {
   "cell_type": "code",
   "execution_count": null,
   "id": "265ae4a1",
   "metadata": {},
   "outputs": [],
   "source": [
    "# Строим график количества вакцинаций в день\n",
    "plt.figure(figsize = (8,6))\n",
    "plt.plot(data_merged['date'], data_merged['daily_df_vacc'])\n",
    "plt.title('График распределения количества вакцинаций в день')\n",
    "plt.ylabel('Количество вакцинаций в день')\n",
    "plt.xlabel('Дата')\n",
    "plt.xticks(data_merged['date'][range(0,len(data_merged),10)], rotation = 90);"
   ]
  },
  {
   "cell_type": "code",
   "execution_count": null,
   "id": "70db6ebb",
   "metadata": {},
   "outputs": [],
   "source": [
    "# Строим график количества твитов в день\n",
    "plt.figure(figsize = (8,6))\n",
    "plt.plot(data_merged['date'], data_merged['tweets'])\n",
    "plt.title('График распределения количества твитов о вакцинации в день')\n",
    "plt.ylabel('Количество твитов в день')\n",
    "plt.xlabel('Дата')\n",
    "plt.xticks(data_merged['date'][range(0,len(data_merged),10)], rotation = 90);"
   ]
  },
  {
   "cell_type": "code",
   "execution_count": null,
   "id": "68f82080",
   "metadata": {},
   "outputs": [],
   "source": [
    "# Проверяем, зависит ли количество вакцинаций от количества твитов\n",
    "grangercausalitytests(data_merged[['daily_df_vacc', 'tweets']], maxlag=[5])"
   ]
  },
  {
   "cell_type": "code",
   "execution_count": null,
   "id": "7baee8a9",
   "metadata": {},
   "outputs": [],
   "source": [
    "grangercausalitytests(data_merged[['tweets', 'daily_df_vacc']], maxlag=[5])"
   ]
  },
  {
   "cell_type": "code",
   "execution_count": null,
   "id": "73287dfb",
   "metadata": {},
   "outputs": [],
   "source": []
  }
 ],
 "metadata": {
  "kernelspec": {
   "display_name": "Python 3 (ipykernel)",
   "language": "python",
   "name": "python3"
  },
  "language_info": {
   "codemirror_mode": {
    "name": "ipython",
    "version": 3
   },
   "file_extension": ".py",
   "mimetype": "text/x-python",
   "name": "python",
   "nbconvert_exporter": "python",
   "pygments_lexer": "ipython3",
   "version": "3.11.4"
  }
 },
 "nbformat": 4,
 "nbformat_minor": 5
}
